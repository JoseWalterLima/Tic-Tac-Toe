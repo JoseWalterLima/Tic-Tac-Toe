{
  "nbformat": 4,
  "nbformat_minor": 2,
  "metadata": {
    "colab": {
      "name": "Tic-Tac-Toe_JoséWalter.ipynb",
      "provenance": []
    },
    "kernelspec": {
      "name": "python3",
      "display_name": "Python 3"
    },
    "language_info": {
      "name": "python"
    }
  },
  "cells": [
    {
      "cell_type": "markdown",
      "source": [
        "## Tratamento da base"
      ],
      "metadata": {
        "id": "6PChxUZ_5XJH"
      }
    },
    {
      "cell_type": "code",
      "execution_count": 4,
      "source": [
        "# Criar a base de dados que será utilizada para ajustar o modelo\r\n",
        "import pandas as pd\r\n",
        "df = pd.read_csv('tic-tac-toe.data')\r\n",
        "print(df.shape)\r\n",
        "df.head()"
      ],
      "outputs": [
        {
          "output_type": "stream",
          "name": "stdout",
          "text": [
            "(957, 10)\n"
          ]
        },
        {
          "output_type": "execute_result",
          "data": {
            "text/html": [
              "<div>\n",
              "<style scoped>\n",
              "    .dataframe tbody tr th:only-of-type {\n",
              "        vertical-align: middle;\n",
              "    }\n",
              "\n",
              "    .dataframe tbody tr th {\n",
              "        vertical-align: top;\n",
              "    }\n",
              "\n",
              "    .dataframe thead th {\n",
              "        text-align: right;\n",
              "    }\n",
              "</style>\n",
              "<table border=\"1\" class=\"dataframe\">\n",
              "  <thead>\n",
              "    <tr style=\"text-align: right;\">\n",
              "      <th></th>\n",
              "      <th>x</th>\n",
              "      <th>x.1</th>\n",
              "      <th>x.2</th>\n",
              "      <th>x.3</th>\n",
              "      <th>o</th>\n",
              "      <th>o.1</th>\n",
              "      <th>x.4</th>\n",
              "      <th>o.2</th>\n",
              "      <th>o.3</th>\n",
              "      <th>positive</th>\n",
              "    </tr>\n",
              "  </thead>\n",
              "  <tbody>\n",
              "    <tr>\n",
              "      <th>0</th>\n",
              "      <td>x</td>\n",
              "      <td>x</td>\n",
              "      <td>x</td>\n",
              "      <td>x</td>\n",
              "      <td>o</td>\n",
              "      <td>o</td>\n",
              "      <td>o</td>\n",
              "      <td>x</td>\n",
              "      <td>o</td>\n",
              "      <td>positive</td>\n",
              "    </tr>\n",
              "    <tr>\n",
              "      <th>1</th>\n",
              "      <td>x</td>\n",
              "      <td>x</td>\n",
              "      <td>x</td>\n",
              "      <td>x</td>\n",
              "      <td>o</td>\n",
              "      <td>o</td>\n",
              "      <td>o</td>\n",
              "      <td>o</td>\n",
              "      <td>x</td>\n",
              "      <td>positive</td>\n",
              "    </tr>\n",
              "    <tr>\n",
              "      <th>2</th>\n",
              "      <td>x</td>\n",
              "      <td>x</td>\n",
              "      <td>x</td>\n",
              "      <td>x</td>\n",
              "      <td>o</td>\n",
              "      <td>o</td>\n",
              "      <td>o</td>\n",
              "      <td>b</td>\n",
              "      <td>b</td>\n",
              "      <td>positive</td>\n",
              "    </tr>\n",
              "    <tr>\n",
              "      <th>3</th>\n",
              "      <td>x</td>\n",
              "      <td>x</td>\n",
              "      <td>x</td>\n",
              "      <td>x</td>\n",
              "      <td>o</td>\n",
              "      <td>o</td>\n",
              "      <td>b</td>\n",
              "      <td>o</td>\n",
              "      <td>b</td>\n",
              "      <td>positive</td>\n",
              "    </tr>\n",
              "    <tr>\n",
              "      <th>4</th>\n",
              "      <td>x</td>\n",
              "      <td>x</td>\n",
              "      <td>x</td>\n",
              "      <td>x</td>\n",
              "      <td>o</td>\n",
              "      <td>o</td>\n",
              "      <td>b</td>\n",
              "      <td>b</td>\n",
              "      <td>o</td>\n",
              "      <td>positive</td>\n",
              "    </tr>\n",
              "  </tbody>\n",
              "</table>\n",
              "</div>"
            ],
            "text/plain": [
              "   x x.1 x.2 x.3  o o.1 x.4 o.2 o.3  positive\n",
              "0  x   x   x   x  o   o   o   x   o  positive\n",
              "1  x   x   x   x  o   o   o   o   x  positive\n",
              "2  x   x   x   x  o   o   o   b   b  positive\n",
              "3  x   x   x   x  o   o   b   o   b  positive\n",
              "4  x   x   x   x  o   o   b   b   o  positive"
            ]
          },
          "metadata": {},
          "execution_count": 4
        }
      ],
      "metadata": {
        "colab": {
          "base_uri": "https://localhost:8080/",
          "height": 220
        },
        "id": "F2_Tf55LyH1L",
        "outputId": "8fe30ac9-3bc9-4db3-c34d-b415e25d3b8f"
      }
    },
    {
      "cell_type": "markdown",
      "source": [
        "Como os dados são categóricos, é necessário convertê-los em dados numéricos. Uma das técnicas possíveis para esse proecsso é o One Hot Enconde."
      ],
      "metadata": {
        "id": "sJxgclOw5yvZ"
      }
    },
    {
      "cell_type": "code",
      "execution_count": 8,
      "source": [
        "# Função para transformar dados Categóricos em Numéricos\r\n",
        "def onehot_encode(df, features):\r\n",
        "    df = df.copy()\r\n",
        "    for feature in features:\r\n",
        "        dummies = pd.get_dummies(df[feature], prefix=feature)\r\n",
        "        df = pd.concat([df, dummies], axis=1)\r\n",
        "        df = df.drop(feature, axis=1)\r\n",
        "    return df"
      ],
      "outputs": [],
      "metadata": {
        "id": "mid0OST55wrd"
      }
    },
    {
      "cell_type": "code",
      "execution_count": 15,
      "source": [
        "# Função para fazer o pré-processamento dos dados, com as tranformações necessárias\r\n",
        "def tratamento_dados(df):\r\n",
        "    df = df.copy()\r\n",
        "    \r\n",
        "    # Tranformar a Target em Numérica\r\n",
        "    df['positive'] = df['positive'].replace({'negative': 0, 'positive': 1})\r\n",
        "    \r\n",
        "    # Aplicar a Função de One Hot Encode na Base \r\n",
        "    df = onehot_encode(df, df.columns[:-1])\r\n",
        "    \r\n",
        "    # Criar a matriz com as features e o vetor com a classe target\r\n",
        "    y = df['positive'].copy()\r\n",
        "    X = df.drop('positive', axis=1).copy()\r\n",
        "    \r\n",
        "    # Dividir a base em Treino e Teste\r\n",
        "    from sklearn.model_selection import train_test_split\r\n",
        "    X_train, X_test, y_train, y_test = train_test_split(X, y, test_size=0.3, random_state=10)\r\n",
        "    \r\n",
        "    return X_train, X_test, y_train, y_test"
      ],
      "outputs": [],
      "metadata": {
        "id": "BidWXyQF724s"
      }
    },
    {
      "cell_type": "code",
      "execution_count": 17,
      "source": [
        "# Aplicar a Fundão de pré-processamento na Base\n",
        "X_train, X_test, y_train, y_test = tratamento_dados(df)"
      ],
      "outputs": [],
      "metadata": {
        "id": "28YvOE2C6k5A"
      }
    },
    {
      "cell_type": "markdown",
      "source": [
        "Como os dados eram categóricos, depois do processo de One Hot Encode todas as features ficaram com valores 0 ou 1. Dessa forna, não é necessário realizar normalização dos dados, uma vez que eles já estão na mesma escala."
      ],
      "metadata": {
        "id": "NMMPtunP9urR"
      }
    },
    {
      "cell_type": "markdown",
      "source": [
        "## Ajuste do Modelo"
      ],
      "metadata": {
        "id": "rq_WyJ37-Ad6"
      }
    },
    {
      "cell_type": "code",
      "execution_count": 28,
      "source": [
        "# Fazer validação cruzada com AdaBoost\n",
        "from sklearn.model_selection import GridSearchCV\n",
        "from sklearn.ensemble import AdaBoostClassifier\n",
        "\n",
        "clf = AdaBoostClassifier()\n",
        "parametros = {'n_estimators':[50, 100, 200, 300, 500],'random_state':[0]}\n",
        "grid = GridSearchCV(estimator=clf, param_grid=parametros, scoring='accuracy', cv=5) #validação cruzada com 5 partições\n",
        "\n",
        "# Determinação dos melhores parâmetros\n",
        "grid.fit(X_train, y_train)\n",
        "print(pd.DataFrame(grid.cv_results_)[['rank_test_score','mean_test_score']].sort_values('rank_test_score').head(5))\n",
        "print(f'Melhores Parâmetros: {grid.best_params_}')"
      ],
      "outputs": [
        {
          "output_type": "stream",
          "name": "stdout",
          "text": [
            "   rank_test_score  mean_test_score\n",
            "3                1         0.974627\n",
            "4                1         0.974627\n",
            "2                3         0.971642\n",
            "1                4         0.913298\n",
            "0                5         0.822152\n",
            "Melhores Parâmetros: {'n_estimators': 300, 'random_state': 0}\n"
          ]
        }
      ],
      "metadata": {
        "colab": {
          "base_uri": "https://localhost:8080/"
        },
        "id": "fbtDNjTU-DyJ",
        "outputId": "dd57c1b9-a43d-432e-f01e-bd173fe39b6b"
      }
    },
    {
      "cell_type": "markdown",
      "source": [
        "O Boosting com melhor desempenho foi o realizado utilizando-se 300 stumps, ou classificadores fracos."
      ],
      "metadata": {
        "id": "m7lcm8uAHetU"
      }
    },
    {
      "cell_type": "markdown",
      "source": [
        "## Avaliação"
      ],
      "metadata": {
        "id": "95HHOxvKH4r-"
      }
    },
    {
      "cell_type": "code",
      "execution_count": 49,
      "source": [
        "# Avaliação final do modelo AdaBoost\n",
        "from sklearn import metrics \n",
        "final_ab = AdaBoostClassifier(n_estimators=300)\n",
        "final_ab.fit(X_train, y_train)\n",
        "y_ab = final_ab.predict(X_test)\n",
        "print(f'Precisão AdaBoost: {metrics.precision_score(y_test, y_ab)}\\nRevocação AdaBoost: {metrics.recall_score(y_test, y_ab)}\\n')\n",
        "print(f'Matriz de Confusão AdaBoost: \\n {pd.DataFrame(metrics.confusion_matrix(y_test, y_ab))}')\n",
        "metrics.plot_roc_curve(final_ab, X_test, y_test)"
      ],
      "outputs": [
        {
          "output_type": "stream",
          "name": "stdout",
          "text": [
            "Precisão AdaBoost: 0.9897959183673469\n",
            "Revocação AdaBoost: 0.9897959183673469\n",
            "\n",
            "Matriz de Confusão AdaBoost: \n",
            "     0    1\n",
            "0  90    2\n",
            "1   2  194\n"
          ]
        },
        {
          "output_type": "execute_result",
          "data": {
            "text/plain": [
              "<sklearn.metrics._plot.roc_curve.RocCurveDisplay at 0x7f794d1b0210>"
            ]
          },
          "metadata": {},
          "execution_count": 49
        },
        {
          "output_type": "display_data",
          "data": {
            "image/png": "[encoded data removed]",
            "text/plain": [
              "<Figure size 432x288 with 1 Axes>"
            ]
          },
          "metadata": {
            "needs_background": "light"
          }
        }
      ],
      "metadata": {
        "colab": {
          "base_uri": "https://localhost:8080/",
          "height": 414
        },
        "id": "Y1XasHwMHmDi",
        "outputId": "181c9478-640c-4d45-c1d3-eb369853d25c"
      }
    },
    {
      "cell_type": "code",
      "execution_count": 53,
      "source": [
        "# Taxa de Erro\n",
        "acerto = metrics. accuracy_score (y_test, y_ab)\n",
        "erro_simples = 1 - acerto\n",
        "print('Erro Simples do AdaBoost: {:.2f}%'.format(erro_simples * 100))"
      ],
      "outputs": [
        {
          "output_type": "stream",
          "name": "stdout",
          "text": [
            "Erro Simples do AdaBoost: 1.39%\n"
          ]
        }
      ],
      "metadata": {
        "colab": {
          "base_uri": "https://localhost:8080/"
        },
        "id": "7jlpgXkdM4ul",
        "outputId": "e63952e9-8102-4219-defd-d030bfdde550"
      }
    }
  ]
}